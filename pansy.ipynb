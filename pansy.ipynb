{
 "cells": [
  {
   "cell_type": "code",
   "execution_count": 1,
   "metadata": {},
   "outputs": [],
   "source": [
    "import definite_flower\n",
    "from importlib import reload\n",
    "reload(definite_flower)\n",
    "\n",
    "Flower = definite_flower.Flower"
   ]
  },
  {
   "cell_type": "code",
   "execution_count": 2,
   "metadata": {},
   "outputs": [],
   "source": [
    "pansy = Flower(\"Pansy\", 3,{\n",
    "    \"Red\": [\n",
    "        (1,0,0),(1,0,1),\n",
    "        (2,0,0),(2,0,1),(2,1,0),(2,1,1)],\n",
    "    \"Blue\": [\n",
    "        (1,0,2),\n",
    "        (0,0,2),(0,1,2)],\n",
    "    \"Orange\": [\n",
    "        (1,1,0),(1,1,1),(1,1,2),\n",
    "        (2,2,0),(2,2,1)],\n",
    "    \"Yellow\": [\n",
    "        (1,2,0),(1,2,1),(1,2,2),\n",
    "        (0,1,0),(0,1,1),(0,2,0),(0,2,1),(0,2,2)],\n",
    "    \"Purple\": [\n",
    "        (2,0,2),(2,1,2),(2,2,2)],\n",
    "    \"White\": [\n",
    "        (0,0,0),(0,0,1)]\n",
    "    })"
   ]
  },
  {
   "cell_type": "code",
   "execution_count": 4,
   "metadata": {},
   "outputs": [
    {
     "name": "stdout",
     "output_type": "stream",
     "text": [
      "Pansy\n",
      "=====================\n",
      "Cross breeding slots:\n",
      "---------------------\n",
      "1: E\n",
      "2: E\n",
      "3: Orange (1-1-0)[4] x Orange (1-1-0)[4]\n",
      "\tWhite (0-0-0) [6.25%] [S: New]\n",
      "4: E\n",
      "\t- Orange (1-1-0)[4] x Orange (1-1-0)[4]\n",
      "\tWhite (0-0-0) [6.25%] [S: New]\n",
      "5: E\n",
      "6: E\n",
      "---------------------\n",
      "Clone slots:\n",
      "---------------------\n",
      "1: E\n",
      "2: E\n",
      "---------------------\n",
      "Storage slots:\n",
      "---------------------\n",
      "1: Red (2-0-0) x 3 \n",
      "2: Yellow (0-2-0) x 2 \n",
      "3: White (0-0-1) x 2 \n",
      "4: Orange (1-1-0) x 4 (+2)\n",
      "5: Blue (0-0-2) x 0 \n",
      "6: Yellow (0-1-1) x 2 \n",
      "7: Red (1-0-1) x 2 \n",
      "8: Orange (1-1-1) x 2 \n",
      "9: Purple (2-0-2) x 2 \n",
      "10: Red (2-0-1) x 2 \n",
      "11: Blue (1-0-2) x 2 \n"
     ]
    }
   ],
   "source": [
    "pansy.print_breeding_guide(\n",
    "    [\n",
    "        None,\n",
    "        None,\n",
    "        ((1,1,0),(1,1,0)),\n",
    "        ((1,1,0),(1,1,0)),\n",
    "        None,\n",
    "        None,\n",
    "    ],\n",
    "    [\n",
    "        None,\n",
    "        None,\n",
    "    ],\n",
    "    [\n",
    "        (1, (2,0,0), 3),\n",
    "        (2, (0,2,0), 2),\n",
    "        (3, (0,0,1), 2),\n",
    "        (4, (1,1,0), 2),\n",
    "        (5, (0,0,2), 0),\n",
    "        (6, (0,1,1), 2),\n",
    "        (7, (1,0,1), 2),\n",
    "        (8, (1,1,1), 2),\n",
    "        (9, (2,0,2), 2),\n",
    "        (10,(2,0,1), 2),\n",
    "        (11,(1,0,2), 2),\n",
    "    ],\n",
    "    2)"
   ]
  },
  {
   "cell_type": "code",
   "execution_count": null,
   "metadata": {},
   "outputs": [],
   "source": []
  }
 ],
 "metadata": {
  "kernelspec": {
   "display_name": "Python 3",
   "language": "python",
   "name": "python3"
  },
  "language_info": {
   "codemirror_mode": {
    "name": "ipython",
    "version": 3
   },
   "file_extension": ".py",
   "mimetype": "text/x-python",
   "name": "python",
   "nbconvert_exporter": "python",
   "pygments_lexer": "ipython3",
   "version": "3.8.3"
  }
 },
 "nbformat": 4,
 "nbformat_minor": 4
}
