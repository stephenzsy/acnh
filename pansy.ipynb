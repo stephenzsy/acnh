{
 "cells": [
  {
   "cell_type": "code",
   "execution_count": 10,
   "metadata": {},
   "outputs": [],
   "source": [
    "import definite_flower\n",
    "from importlib import reload\n",
    "reload(definite_flower)\n",
    "\n",
    "Flower = definite_flower.Flower"
   ]
  },
  {
   "cell_type": "code",
   "execution_count": 11,
   "metadata": {},
   "outputs": [
    {
     "name": "stdout",
     "output_type": "stream",
     "text": [
      "Pansy\n",
      "=====================\n",
      "Cross breeding slots:\n",
      "---------------------\n",
      "1: White (0-0-1) x White (0-0-1)\n",
      "\t+ White (0-0-1) x White (0-0-1)\n",
      "\tBlue (0-0-2) [25.0%]\n",
      "2: E\n",
      "3: E\n",
      "4: E\n",
      "5: E\n",
      "6: E\n",
      "---------------------\n",
      "Clone slots:\n",
      "---------------------\n",
      "1: E\n",
      "[(18, 6), (6, 6), (1, 11)]\n"
     ]
    }
   ],
   "source": [
    "pansy = Flower(\"Pansy\", 3,{\n",
    "    \"Red\": [\n",
    "        (1,0,0),(1,0,1),\n",
    "        (2,0,0),(2,0,1),(2,1,0),(2,1,1)],\n",
    "    \"Blue\": [\n",
    "        (1,0,2),\n",
    "        (0,0,2),(0,1,2)],\n",
    "    \"Orange\": [\n",
    "        (1,1,0),(1,1,1),(1,1,2),\n",
    "        (2,2,0),(2,2,1)],\n",
    "    \"Yellow\": [\n",
    "        (1,2,0),(1,2,1),(1,2,2),\n",
    "        (0,1,0),(0,1,1),(0,2,0),(0,2,1),(0,2,2)],\n",
    "    \"Purple\": [\n",
    "        (2,0,2),(2,1,2),(2,2,2)],\n",
    "    \"White\": [\n",
    "        (0,0,0),(0,0,1)]\n",
    "    })\n",
    "pansy.print_breeding_guide(\n",
    "    [\n",
    "        None,\n",
    "        None,\n",
    "        None,\n",
    "        None,\n",
    "        None,\n",
    "        None,\n",
    "    ],\n",
    "    [\n",
    "        None\n",
    "    ],\n",
    "    [\n",
    "        (1, (2,0,0), 6),\n",
    "        (2, (0,2,0), 6),\n",
    "        (3, (0,0,1), 13),\n",
    "    ],\n",
    "    2)"
   ]
  },
  {
   "cell_type": "code",
   "execution_count": null,
   "metadata": {},
   "outputs": [],
   "source": []
  },
  {
   "cell_type": "code",
   "execution_count": null,
   "metadata": {},
   "outputs": [],
   "source": []
  }
 ],
 "metadata": {
  "kernelspec": {
   "display_name": "Python 3",
   "language": "python",
   "name": "python3"
  },
  "language_info": {
   "codemirror_mode": {
    "name": "ipython",
    "version": 3
   },
   "file_extension": ".py",
   "mimetype": "text/x-python",
   "name": "python",
   "nbconvert_exporter": "python",
   "pygments_lexer": "ipython3",
   "version": "3.8.3"
  }
 },
 "nbformat": 4,
 "nbformat_minor": 4
}
