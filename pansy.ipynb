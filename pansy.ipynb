{
 "cells": [
  {
   "cell_type": "code",
   "execution_count": 1,
   "metadata": {},
   "outputs": [],
   "source": [
    "import definite_flower\n",
    "from importlib import reload\n",
    "reload(definite_flower)\n",
    "\n",
    "Flower = definite_flower.Flower"
   ]
  },
  {
   "cell_type": "code",
   "execution_count": 2,
   "metadata": {},
   "outputs": [],
   "source": [
    "pansy = Flower(\"Pansy\", 3,{\n",
    "    \"Red\": [\n",
    "        (1,0,0),(1,0,1),\n",
    "        (2,0,0),(2,0,1),(2,1,0),(2,1,1)],\n",
    "    \"Blue\": [\n",
    "        (1,0,2),\n",
    "        (0,0,2),(0,1,2)],\n",
    "    \"Orange\": [\n",
    "        (1,1,0),(1,1,1),(1,1,2),\n",
    "        (2,2,0),(2,2,1)],\n",
    "    \"Yellow\": [\n",
    "        (1,2,0),(1,2,1),(1,2,2),\n",
    "        (0,1,0),(0,1,1),(0,2,0),(0,2,1),(0,2,2)],\n",
    "    \"Purple\": [\n",
    "        (2,0,2),(2,1,2),(2,2,2)],\n",
    "    \"White\": [\n",
    "        (0,0,0),(0,0,1)]\n",
    "    })"
   ]
  },
  {
   "cell_type": "code",
   "execution_count": 3,
   "metadata": {},
   "outputs": [
    {
     "name": "stdout",
     "output_type": "stream",
     "text": [
      "Pansy\n",
      "=====================\n",
      "Cross breeding slots:\n",
      "---------------------\n",
      "1: E\n",
      "---------------------\n",
      "Clone slots:\n",
      "---------------------\n",
      "1: E\n",
      "2: E\n",
      "---------------------\n",
      "Storage slots:\n",
      "---------------------\n",
      "1: Red (2-0-0) x 2 \n",
      "2: Yellow (0-2-0) x 2 \n",
      "3: White (0-0-1) x 2 \n",
      "4: Orange (1-1-0) x 2 \n",
      "5: Blue (0-0-2) x 2 \n",
      "6: Yellow (0-1-1) x 2 \n",
      "7: Red (1-0-1) x 2 \n",
      "8: Orange (1-1-1) x 2 \n",
      "9: Purple (2-0-2) x 2 \n",
      "10: Red (2-0-1) x 2 \n",
      "11: Blue (1-0-2) x 2 \n",
      "12: White (0-0-0) x 2 \n",
      "13: Red (1-0-0) x 2 \n",
      "14: Yellow (0-1-0) x 2 \n"
     ]
    }
   ],
   "source": [
    "pansy.print_breeding_guide(\n",
    "    [\n",
    "        None,\n",
    "    ],\n",
    "    [\n",
    "        None,\n",
    "        None,\n",
    "    ],\n",
    "    [\n",
    "        (1, (2,0,0), 2),\n",
    "        (2, (0,2,0), 2),\n",
    "        (3, (0,0,1), 2),\n",
    "        (4, (1,1,0), 2),\n",
    "        (5, (0,0,2), 2),\n",
    "        (6, (0,1,1), 2),\n",
    "        (7, (1,0,1), 2),\n",
    "        (8, (1,1,1), 2),\n",
    "        (9, (2,0,2), 2),\n",
    "        (10,(2,0,1), 2),\n",
    "        (11,(1,0,2), 2),\n",
    "        (12,(0,0,0), 2),\n",
    "        (13,(1,0,0), 2),\n",
    "        (14,(0,1,0), 2)\n",
    "    ],\n",
    "    2)"
   ]
  },
  {
   "cell_type": "code",
   "execution_count": 4,
   "metadata": {},
   "outputs": [
    {
     "name": "stdout",
     "output_type": "stream",
     "text": [
      "1: White (0-0-0) [Seq:0] [BS:12]\n",
      "2: White (0-0-1) [Seq:1] [BS:3]\n",
      "3: Blue (0-0-2) [Seq:2] [BS:5]\n",
      "4: Yellow (0-1-0) [Seq:3] [BS:14]\n",
      "5: Yellow (0-1-1) [Seq:4] [BS:6]\n",
      "6: Yellow (0-2-0) [Seq:6] [BS:2]\n",
      "7: Red (1-0-0) [Seq:9] [BS:13]\n",
      "8: Red (1-0-1) [Seq:10] [BS:7]\n",
      "9: Blue (1-0-2) [Seq:11] [BS:11]\n",
      "10: Orange (1-1-0) [Seq:12] [BS:4]\n",
      "11: Orange (1-1-1) [Seq:13] [BS:8]\n",
      "12: Red (2-0-0) [Seq:18] [BS:1]\n",
      "13: Red (2-0-1) [Seq:19] [BS:10]\n",
      "14: Purple (2-0-2) [Seq:20] [BS:9]\n"
     ]
    }
   ],
   "source": [
    "pansy.print_final_seq([\n",
    "        (1, (2,0,0), 2),\n",
    "        (2, (0,2,0), 2),\n",
    "        (3, (0,0,1), 2),\n",
    "        (4, (1,1,0), 2),\n",
    "        (5, (0,0,2), 2),\n",
    "        (6, (0,1,1), 2),\n",
    "        (7, (1,0,1), 2),\n",
    "        (8, (1,1,1), 2),\n",
    "        (9, (2,0,2), 2),\n",
    "        (10,(2,0,1), 2),\n",
    "        (11,(1,0,2), 2),\n",
    "        (12,(0,0,0), 2),\n",
    "        (13,(1,0,0), 2),\n",
    "        (14,(0,1,0), 2)\n",
    "    ])"
   ]
  }
 ],
 "metadata": {
  "kernelspec": {
   "display_name": "Python 3",
   "language": "python",
   "name": "python3"
  },
  "language_info": {
   "codemirror_mode": {
    "name": "ipython",
    "version": 3
   },
   "file_extension": ".py",
   "mimetype": "text/x-python",
   "name": "python",
   "nbconvert_exporter": "python",
   "pygments_lexer": "ipython3",
   "version": "3.8.3"
  }
 },
 "nbformat": 4,
 "nbformat_minor": 4
}
