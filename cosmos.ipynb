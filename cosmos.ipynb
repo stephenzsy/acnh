{
 "cells": [
  {
   "cell_type": "code",
   "execution_count": 1,
   "metadata": {},
   "outputs": [],
   "source": [
    "import definite_flower\n",
    "from importlib import reload\n",
    "reload(definite_flower)\n",
    "\n",
    "Flower = definite_flower.Flower"
   ]
  },
  {
   "cell_type": "code",
   "execution_count": 2,
   "metadata": {},
   "outputs": [],
   "source": [
    "cosmos = Flower('Cosmos', 3,{\n",
    "    \"Pink\": [\n",
    "        (1,0,0),(1,0,1),(1,0,2),(1,1,2)],\n",
    "    \"Orange\": [\n",
    "        (1,1,0),(1,1,1),(1,2,0),(1,2,1),(1,2,2),\n",
    "        (2,1,0),(2,1,1)],\n",
    "    \"Red\": [\n",
    "        (2,0,0),(2,0,1),(2,0,2),(2,1,2),(2,2,2)],\n",
    "    \"Black\": [\n",
    "        (2,2,0),(2,2,1)],\n",
    "    \"Yellow\": [\n",
    "        (0,1,0),(0,1,1),(0,2,0),(0,2,1),(0,2,2)],\n",
    "    \"White\": [\n",
    "        (0,0,0),(0,0,1),(0,0,2),(0,1,2)]\n",
    "    })"
   ]
  },
  {
   "cell_type": "code",
   "execution_count": 17,
   "metadata": {},
   "outputs": [
    {
     "name": "stdout",
     "output_type": "stream",
     "text": [
      "Cosmos\n",
      "=====================\n",
      "Cross breeding slots:\n",
      "---------------------\n",
      "1: Orange (1-1-1)[7] x Pink (1-1-2)[9]\n",
      "\tBlack (2-2-1) [3.125%] [S: New]\n",
      "2: E\n",
      "3: Orange (1-1-1)[7] x Orange (1-2-2)[11]\n",
      "\tWhite (0-1-2) [6.25%] [S: 4]\n",
      "\tPink (1-1-2) [12.5%] [S: 9]\n",
      "\tBlack (2-2-1) [6.25%] [S: New]\n",
      "4: Red (2-0-0)[1] x Red (2-1-2)[12]\n",
      "\tRed (2-0-1) [50.0%] [S: 10]\n",
      "\tOrange (2-1-1) [50.0%] [S: New]\n",
      "5: E\n",
      "---------------------\n",
      "Clone slots:\n",
      "---------------------\n",
      "1: E\n",
      "2: E\n",
      "---------------------\n",
      "Storage slots:\n",
      "---------------------\n",
      "1: Red (2-0-0) x 2 \n",
      "2: Yellow (0-2-1) x 2 \n",
      "3: White (0-0-1) x 2 \n",
      "4: White (0-1-2) x 2 \n",
      "5: Pink (1-0-1) x 2 \n",
      "6: Yellow (0-1-1) x 2 \n",
      "7: Orange (1-1-1) x 0 \n",
      "8: Yellow (0-2-2) x 2 \n",
      "9: Pink (1-1-2) x 2 \n",
      "10: Red (2-0-1) x 2 \n",
      "11: Orange (1-2-2) x 0 \n",
      "12: Red (2-1-2) x 0 \n"
     ]
    }
   ],
   "source": [
    "cosmos.print_breeding_guide(\n",
    "    [\n",
    "        ((1,1,1),(1,1,2)),\n",
    "        None,\n",
    "        ((1,1,1),(1,2,2)),\n",
    "        ((2,0,0),(2,1,2)),\n",
    "        None\n",
    "    ],\n",
    "    [\n",
    "        None,\n",
    "        None\n",
    "    ],\n",
    "    [\n",
    "        (1, (2,0,0), 2),\n",
    "        (2, (0,2,1), 2),\n",
    "        (3, (0,0,1), 2),\n",
    "        (4, (0,1,2), 2),\n",
    "        (5, (1,0,1), 2),\n",
    "        (6, (0,1,1), 2),\n",
    "        (7, (1,1,1), 0),\n",
    "        (8, (0,2,2), 2),\n",
    "        (9, (1,1,2), 2),\n",
    "        (10,(2,0,1), 2),\n",
    "        (11,(1,2,2), 0),\n",
    "        (12,(2,1,2), 0)\n",
    "    ],\n",
    "    2)"
   ]
  },
  {
   "cell_type": "code",
   "execution_count": null,
   "metadata": {},
   "outputs": [],
   "source": []
  },
  {
   "cell_type": "code",
   "execution_count": null,
   "metadata": {},
   "outputs": [],
   "source": []
  }
 ],
 "metadata": {
  "kernelspec": {
   "display_name": "Python 3",
   "language": "python",
   "name": "python3"
  },
  "language_info": {
   "codemirror_mode": {
    "name": "ipython",
    "version": 3
   },
   "file_extension": ".py",
   "mimetype": "text/x-python",
   "name": "python",
   "nbconvert_exporter": "python",
   "pygments_lexer": "ipython3",
   "version": "3.8.3"
  }
 },
 "nbformat": 4,
 "nbformat_minor": 4
}
