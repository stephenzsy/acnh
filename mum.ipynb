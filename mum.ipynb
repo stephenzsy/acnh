{
 "cells": [
  {
   "cell_type": "code",
   "execution_count": 1,
   "metadata": {},
   "outputs": [],
   "source": [
    "import definite_flower\n",
    "from importlib import reload\n",
    "reload(definite_flower)\n",
    "\n",
    "Flower = definite_flower.Flower"
   ]
  },
  {
   "cell_type": "code",
   "execution_count": 2,
   "metadata": {},
   "outputs": [],
   "source": [
    "mum = Flower(\"Mum\", 3,{\n",
    "    \"Pink\": [\n",
    "        (1,0,0),(1,0,1),(1,0,2),\n",
    "        (1,1,2)],\n",
    "    \"Yellow\": [\n",
    "        (1,1,0),\n",
    "        (0,1,0),(0,1,1),(0,2,0),(0,2,1),(0,2,2)],\n",
    "    \"Red\": [\n",
    "        (1,1,1),\n",
    "        (2,0,0),(2,0,1),(2,0,2),(2,1,2),(2,2,2)],\n",
    "    \"Purple\": [\n",
    "        (1,2,0),(1,2,1),(1,2,2),\n",
    "        (2,1,0),(2,1,1),\n",
    "        (0,0,2)],\n",
    "    \"Green\": [\n",
    "        (2,2,0),(2,2,1)],\n",
    "    \"White\": [\n",
    "        (0,0,0),(0,0,1),(0,1,2)]\n",
    "    })"
   ]
  },
  {
   "cell_type": "code",
   "execution_count": 3,
   "metadata": {},
   "outputs": [
    {
     "name": "stdout",
     "output_type": "stream",
     "text": [
      "Mum\n",
      "=====================\n",
      "Cross breeding slots:\n",
      "---------------------\n",
      "1: Purple (1-2-0)[6] x Purple (2-1-0)[5]\n",
      "\tYellow (1-1-0) [25.0%] [S: 4]\n",
      "\tGreen (2-2-0) [25.0%] [S: New]\n",
      "2: White (0-0-1)[3] x White (0-0-1)[3]\n",
      "\tPurple (0-0-2) [25.0%] [S: New]\n",
      "3: Yellow (1-1-0)[4] x Red (2-0-0)[1]\n",
      "\tPink (1-0-0) [25.0%] [S: New]\n",
      "\tYellow (1-1-0) [25.0%] [S: 4]\n",
      "\tRed (2-0-0) [25.0%] [S: 1]\n",
      "\tPurple (2-1-0) [25.0%] [S: 5]\n",
      "4: E\n",
      "---------------------\n",
      "Clone slots:\n",
      "---------------------\n",
      "1: E\n",
      "2: E\n",
      "---------------------\n",
      "Storage slots:\n",
      "---------------------\n",
      "1: Red (2-0-0) x 1 \n",
      "2: Yellow (0-2-0) x 7 \n",
      "3: White (0-0-1) x 0 \n",
      "4: Yellow (1-1-0) x 0 \n",
      "5: Purple (2-1-0) x 0 \n",
      "6: Purple (1-2-0) x 0 \n"
     ]
    }
   ],
   "source": [
    "mum.print_breeding_guide(\n",
    "    [\n",
    "        ((1,2,0),(2,1,0)),\n",
    "        ((0,0,1),(0,0,1)),\n",
    "        ((1,1,0),(2,0,0)),\n",
    "        None\n",
    "    ],\n",
    "    [\n",
    "        None,\n",
    "        None\n",
    "    ],\n",
    "    [\n",
    "        (1, (2,0,0), 1),\n",
    "        (2, (0,2,0), 7),\n",
    "        (3, (0,0,1), 0),\n",
    "        (4, (1,1,0), 0),\n",
    "        (5, (2,1,0), 0),\n",
    "        (6, (1,2,0), 0)\n",
    "    ],\n",
    "    2)"
   ]
  },
  {
   "cell_type": "code",
   "execution_count": null,
   "metadata": {},
   "outputs": [],
   "source": [
    "    "
   ]
  }
 ],
 "metadata": {
  "kernelspec": {
   "display_name": "Python 3",
   "language": "python",
   "name": "python3"
  },
  "language_info": {
   "codemirror_mode": {
    "name": "ipython",
    "version": 3
   },
   "file_extension": ".py",
   "mimetype": "text/x-python",
   "name": "python",
   "nbconvert_exporter": "python",
   "pygments_lexer": "ipython3",
   "version": "3.8.3"
  }
 },
 "nbformat": 4,
 "nbformat_minor": 4
}
