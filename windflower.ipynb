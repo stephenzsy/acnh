{
 "cells": [
  {
   "cell_type": "code",
   "execution_count": 1,
   "metadata": {},
   "outputs": [],
   "source": [
    "import definite_flower\n",
    "from definite_flower import Flower\n",
    "from importlib import reload\n",
    "reload(definite_flower)\n",
    "\n",
    "Flower = definite_flower.Flower"
   ]
  },
  {
   "cell_type": "code",
   "execution_count": 2,
   "metadata": {},
   "outputs": [],
   "source": [
    "windflower = Flower('Windflower', 3,{\n",
    "    \"Red\": [\n",
    "        (1,0,0),(1,0,1),\n",
    "        (2,0,0),(2,0,1),(2,1,0),(2,1,1)],\n",
    "    \"Blue\": [\n",
    "        (1,0,2),\n",
    "        (0,0,2),(0,1,2)],\n",
    "    \"Pink\": [\n",
    "        (1,1,0),(1,1,1),(1,1,2),\n",
    "        (2,2,0),(2,2,1)],\n",
    "    \"Orange\": [\n",
    "        (1,2,0),(1,2,1),(1,2,2),\n",
    "        (0,1,0),(0,1,1),(0,2,0),(0,2,1),(0,2,2)],\n",
    "    \"Purple\": [\n",
    "        (2,0,2),(2,1,2),(2,2,2)],\n",
    "    \"White\": [\n",
    "        (0,0,0),(0,0,1)]\n",
    "    })"
   ]
  },
  {
   "cell_type": "code",
   "execution_count": 3,
   "metadata": {},
   "outputs": [
    {
     "name": "stdout",
     "output_type": "stream",
     "text": [
      "Windflower\n",
      "=====================\n",
      "Cross breeding slots:\n",
      "---------------------\n",
      "1: E\n",
      "2: E\n",
      "---------------------\n",
      "Clone slots:\n",
      "---------------------\n",
      "1: E\n",
      "2: E\n",
      "---------------------\n",
      "Storage slots:\n",
      "---------------------\n",
      "1: Red (2-0-0) x 2 \n",
      "2: Orange (0-2-0) x 2 \n",
      "3: White (0-0-1) x 2 \n",
      "4: Pink (1-1-0) x 2 \n",
      "5: Blue (0-0-2) x 2 \n",
      "6: Red (1-0-1) x 2 \n",
      "7: Orange (0-1-1) x 2 \n",
      "8: Pink (1-1-1) x 2 \n",
      "9: Purple (2-0-2) x 2 \n",
      "10: Red (2-0-1) x 2 \n",
      "11: White (0-0-0) x 2 \n",
      "12: Blue (1-0-2) x 2 \n",
      "13: Red (1-0-0) x 2 \n",
      "14: Orange (0-1-0) x 2 \n"
     ]
    }
   ],
   "source": [
    "windflower.print_breeding_guide(\n",
    "    [\n",
    "        None,\n",
    "        None,\n",
    "    ],\n",
    "    [\n",
    "        None,\n",
    "        None\n",
    "    ],\n",
    "    [\n",
    "        (1, (2,0,0),2),\n",
    "        (2, (0,2,0),2),\n",
    "        (3, (0,0,1),2),\n",
    "        (4, (1,1,0),2),\n",
    "        (5, (0,0,2),2),\n",
    "        (6, (1,0,1),2),\n",
    "        (7, (0,1,1),2),\n",
    "        (8, (1,1,1),2),\n",
    "        (9, (2,0,2),2),\n",
    "        (10,(2,0,1),2),\n",
    "        (11,(0,0,0),2),\n",
    "        (12,(1,0,2),2),\n",
    "        (13,(1,0,0),2),\n",
    "        (14,(0,1,0),2)\n",
    "    ],\n",
    "    2)"
   ]
  }
 ],
 "metadata": {
  "kernelspec": {
   "display_name": "Python 3",
   "language": "python",
   "name": "python3"
  },
  "language_info": {
   "codemirror_mode": {
    "name": "ipython",
    "version": 3
   },
   "file_extension": ".py",
   "mimetype": "text/x-python",
   "name": "python",
   "nbconvert_exporter": "python",
   "pygments_lexer": "ipython3",
   "version": "3.8.3"
  }
 },
 "nbformat": 4,
 "nbformat_minor": 4
}
