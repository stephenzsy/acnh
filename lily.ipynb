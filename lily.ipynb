{
 "cells": [
  {
   "cell_type": "code",
   "execution_count": 2,
   "metadata": {},
   "outputs": [],
   "source": [
    "import definite_flower\n",
    "from importlib import reload\n",
    "reload(definite_flower)\n",
    "\n",
    "Flower = definite_flower.Flower"
   ]
  },
  {
   "cell_type": "code",
   "execution_count": 3,
   "metadata": {},
   "outputs": [],
   "source": [
    "lily = Flower(\"Lily\", 3,{\n",
    "    \"Pink\": [\n",
    "        (1,0,1),\n",
    "        (2,0,2),(2,1,2)],\n",
    "    \"Yellow\": [\n",
    "        (1,1,1),(1,1,2),(1,2,1),(1,2,2),\n",
    "        (0,1,0),(0,2,0),(0,2,1)],\n",
    "    \"Red\": [\n",
    "        (1,0,0),\n",
    "        (2,0,1),(2,1,1)],\n",
    "    \"Orange\": [\n",
    "        (1,1,0),(1,2,0),\n",
    "        (2,2,0),(2,2,1)],\n",
    "    \"Black\": [\n",
    "        (2,0,0),(2,1,0)],\n",
    "    \"White\": [\n",
    "        (0,0,0),(0,0,1),(0,0,2),(0,1,1),(0,1,2),(0,2,2),\n",
    "        (1,0,2),\n",
    "        (2,2,2)]\n",
    "    })"
   ]
  },
  {
   "cell_type": "code",
   "execution_count": 47,
   "metadata": {},
   "outputs": [
    {
     "name": "stdout",
     "output_type": "stream",
     "text": [
      "Lily\n",
      "=====================\n",
      "Cross breeding slots:\n",
      "---------------------\n",
      "1: Yellow (0-1-0)[10] x Red (1-0-0)[7]\n",
      "\t+ Yellow (0-1-0)[10] x Red (1-0-0)[7]\n",
      "\tWhite (0-0-0) [25.0%] [S: New]\n",
      "\tYellow (0-1-0) [25.0%] [S: 10]\n",
      "\tRed (1-0-0) [25.0%] [S: 7]\n",
      "\tOrange (1-1-0) [25.0%] [S: 12]\n",
      "2: E\n",
      "3: E\n",
      "\t- White (0-0-2)[3] x Red (1-0-0)[7]\n",
      "\tWhite (0-0-1) [50.0%] [S: 13]\n",
      "\tPink (1-0-1) [50.0%] [S: 6]\n",
      "4: E\n",
      "\t- Yellow (0-1-0)[10] x Orange (1-1-0)[12]\n",
      "\tWhite (0-0-0) [12.5%] [S: New]\n",
      "\tRed (1-0-0) [12.5%] [S: 7]\n",
      "5: E\n",
      "6: E\n",
      "---------------------\n",
      "Clone slots:\n",
      "---------------------\n",
      "1: Black (2-0-0) [S: 8]\n",
      "2: Orange (1-1-0) [S: 12]\n",
      "\t+ Orange (1-1-0)\n",
      "---------------------\n",
      "Storage slots:\n",
      "---------------------\n",
      "1: Red (2-0-1) x 2 \n",
      "2: Yellow (0-2-0) x 2 \n",
      "3: White (0-0-2) x 3 (+1)\n",
      "4: Yellow (1-1-1) x 2 \n",
      "5: White (0-1-1) x 2 \n",
      "6: Pink (1-0-1) x 2 \n",
      "7: Red (1-0-0) x 0 \n",
      "8: Black (2-0-0) x 0 \n",
      "9: White (1-0-2) x 2 \n",
      "10: Yellow (0-1-0) x 0 \n",
      "11: Pink (2-0-2) x 2 \n",
      "12: Orange (1-1-0) x 0 \n",
      "13: White (0-0-1) x 1 \n"
     ]
    }
   ],
   "source": [
    "lily.print_breeding_guide(\n",
    "    [\n",
    "        None,\n",
    "        None,\n",
    "        ((0,0,2),(1,0,0)),\n",
    "        ((0,1,0),(1,1,0)),\n",
    "        None,\n",
    "        None\n",
    "    ],\n",
    "    [\n",
    "        (2,0,0),\n",
    "        None\n",
    "    ],\n",
    "    [\n",
    "        (1, (2,0,1), 2),\n",
    "        (2, (0,2,0), 2),\n",
    "        (3, (0,0,2), 2),\n",
    "        (4, (1,1,1), 2),\n",
    "        (5, (0,1,1), 2),\n",
    "        (6, (1,0,1), 2),\n",
    "        (7, (1,0,0), 0),\n",
    "        (8, (2,0,0), 0),\n",
    "        (9, (1,0,2), 2),\n",
    "        (10,(0,1,0), 0),\n",
    "        (11,(2,0,2), 2),\n",
    "        (12,(1,1,0), 0),\n",
    "        (13,(0,0,1), 1)\n",
    "    ],\n",
    "    2)"
   ]
  },
  {
   "cell_type": "code",
   "execution_count": null,
   "metadata": {},
   "outputs": [],
   "source": []
  },
  {
   "cell_type": "code",
   "execution_count": null,
   "metadata": {},
   "outputs": [],
   "source": []
  }
 ],
 "metadata": {
  "kernelspec": {
   "display_name": "Python 3",
   "language": "python",
   "name": "python3"
  },
  "language_info": {
   "codemirror_mode": {
    "name": "ipython",
    "version": 3
   },
   "file_extension": ".py",
   "mimetype": "text/x-python",
   "name": "python",
   "nbconvert_exporter": "python",
   "pygments_lexer": "ipython3",
   "version": "3.8.3"
  }
 },
 "nbformat": 4,
 "nbformat_minor": 4
}
