{
 "cells": [
  {
   "cell_type": "code",
   "execution_count": 1,
   "metadata": {},
   "outputs": [],
   "source": [
    "import definite_flower\n",
    "from importlib import reload\n",
    "reload(definite_flower)\n",
    "\n",
    "Flower = definite_flower.Flower"
   ]
  },
  {
   "cell_type": "code",
   "execution_count": 2,
   "metadata": {},
   "outputs": [],
   "source": [
    "tulip = Flower(\"Tulip\", 3,{\n",
    "    \"Red\": [\n",
    "        (1,0,0),\n",
    "        (2,0,1),(2,0,2),(2,1,1),(2,1,2)],\n",
    "    \"Pink\": [\n",
    "        (1,0,1)],\n",
    "    \"White\": [\n",
    "        (1,0,2),\n",
    "        (0,0,0),(0,0,1),(0,0,2),(0,1,2)],\n",
    "    \"Orange\": [\n",
    "        (1,1,0),(1,2,0)],\n",
    "    \"Yellow\": [\n",
    "        (1,1,1),(1,1,2),(1,2,1),(1,2,2),\n",
    "        (0,1,0),(0,1,1),(0,2,0),(0,2,1),(0,2,2)],\n",
    "    \"Black\": [\n",
    "        (2,0,0),(2,1,0)],\n",
    "    \"Purple\": [\n",
    "        (2,2,0),(2,2,1),(2,2,2)]\n",
    "    })"
   ]
  },
  {
   "cell_type": "code",
   "execution_count": 14,
   "metadata": {},
   "outputs": [
    {
     "name": "stdout",
     "output_type": "stream",
     "text": [
      "Tulip\n",
      "=====================\n",
      "Cross breeding slots:\n",
      "---------------------\n",
      "1: Yellow (0-2-0)[2] x Red (2-0-1)[1]\n",
      "\tOrange (1-1-0) [50.0%] [S: New]\n",
      "\tYellow (1-1-1) [50.0%] [S: 4]\n",
      "2: White (0-0-1)[3] x Red (2-0-1)[1]\n",
      "\tRed (1-0-0) [25.0%] [S: 5]\n",
      "\tPink (1-0-1) [50.0%] [S: New]\n",
      "\tWhite (1-0-2) [25.0%] [S: New]\n",
      "3: Red (2-0-1)[1] x Red (2-0-1)[1]\n",
      "\tBlack (2-0-0) [25.0%] [S: New]\n",
      "4: E\n",
      "\t- Yellow (1-1-1)[4] x Red (2-0-1)[1]\n",
      "\tPink (1-0-1) [12.5%] [S: New]\n",
      "\tWhite (1-0-2) [6.25%] [S: New]\n",
      "\tOrange (1-1-0) [6.25%] [S: New]\n",
      "5: Yellow (0-2-0)[2] x Red (1-0-0)[5]\n",
      "\tYellow (0-1-0) [50.0%] [S: 6]\n",
      "\tOrange (1-1-0) [50.0%] [S: New]\n",
      "6: Red (1-0-0)[5] x Red (2-0-1)[1]\n",
      "\t+ Red (1-0-0)[5] x Red (2-0-1)[1]\n",
      "\tPink (1-0-1) [25.0%] [S: New]\n",
      "\tBlack (2-0-0) [25.0%] [S: New]\n",
      "---------------------\n",
      "Clone slots:\n",
      "---------------------\n",
      "1: Yellow (0-1-0) [S: 6]\n",
      "\t+ Yellow (0-1-0)\n",
      "2: E\n",
      "---------------------\n",
      "Storage slots:\n",
      "---------------------\n",
      "1: Red (2-0-1) x 0 \n",
      "2: Yellow (0-2-0) x 2 \n",
      "3: White (0-0-1) x 5 \n",
      "4: Yellow (1-1-1) x 2 (+1)\n",
      "5: Red (1-0-0) x 0 (-1)\n",
      "6: Yellow (0-1-0) x 0 (-1)\n"
     ]
    }
   ],
   "source": [
    "tulip.print_breeding_guide(\n",
    "    [\n",
    "        ((0,2,0),(2,0,1)),\n",
    "        ((0,0,1),(2,0,1)),\n",
    "        ((2,0,1),(2,0,1)),\n",
    "        ((1,1,1),(2,0,1)),\n",
    "        ((0,2,0),(1,0,0)),\n",
    "        None\n",
    "    ],\n",
    "    [\n",
    "        None,\n",
    "        None\n",
    "    ],\n",
    "    [\n",
    "        (1, (2,0,1), 0),\n",
    "        (2, (0,2,0), 2),\n",
    "        (3, (0,0,1), 5),\n",
    "        (4, (1,1,1), 1),\n",
    "        (5, (1,0,0), 1),\n",
    "        (6, (0,1,0), 1)\n",
    "    ],\n",
    "    2)"
   ]
  },
  {
   "cell_type": "code",
   "execution_count": null,
   "metadata": {},
   "outputs": [],
   "source": []
  }
 ],
 "metadata": {
  "kernelspec": {
   "display_name": "Python 3",
   "language": "python",
   "name": "python3"
  },
  "language_info": {
   "codemirror_mode": {
    "name": "ipython",
    "version": 3
   },
   "file_extension": ".py",
   "mimetype": "text/x-python",
   "name": "python",
   "nbconvert_exporter": "python",
   "pygments_lexer": "ipython3",
   "version": "3.8.3"
  }
 },
 "nbformat": 4,
 "nbformat_minor": 4
}
